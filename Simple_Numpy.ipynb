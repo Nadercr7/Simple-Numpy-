{
  "nbformat": 4,
  "nbformat_minor": 0,
  "metadata": {
    "colab": {
      "provenance": []
    },
    "kernelspec": {
      "name": "python3",
      "display_name": "Python 3"
    },
    "language_info": {
      "name": "python"
    }
  },
  "cells": [
    {
      "cell_type": "markdown",
      "source": [
        "#why Numpy\n",
        "To conclude it's because it's faster for the operations and because of it's usage."
      ],
      "metadata": {
        "id": "YJ3V75T8nYgP"
      }
    },
    {
      "cell_type": "markdown",
      "source": [
        "#Importing\n",
        "we need to import it first before everything\n"
      ],
      "metadata": {
        "id": "_RjWrmEcn5IV"
      }
    },
    {
      "cell_type": "code",
      "execution_count": null,
      "metadata": {
        "id": "e61UZDxdZiVB"
      },
      "outputs": [],
      "source": [
        "import numpy as np"
      ]
    },
    {
      "cell_type": "markdown",
      "source": [
        "#Assuming that we have a list called 'first_list'"
      ],
      "metadata": {
        "id": "PA50t4MNoFCe"
      }
    },
    {
      "cell_type": "markdown",
      "source": [
        "#converting\n",
        "converting a ist to an array\n"
      ],
      "metadata": {
        "id": "1RjcO2VvmJhK"
      }
    },
    {
      "cell_type": "code",
      "source": [
        "first_list = [1,3,5,7]\n",
        "np.array(first_list)"
      ],
      "metadata": {
        "colab": {
          "base_uri": "https://localhost:8080/"
        },
        "id": "MXB_rrakmVOi",
        "outputId": "9e513004-ff52-4d57-bd0f-a8f0266f0dca"
      },
      "execution_count": null,
      "outputs": [
        {
          "output_type": "execute_result",
          "data": {
            "text/plain": [
              "array([1, 3, 5, 7])"
            ]
          },
          "metadata": {},
          "execution_count": 3
        }
      ]
    },
    {
      "cell_type": "markdown",
      "source": [
        "#converting - 2\n",
        "converting a matrix to an array"
      ],
      "metadata": {
        "id": "bmHEMz8cmwxM"
      }
    },
    {
      "cell_type": "code",
      "source": [
        "matrix = [[1,1,1],[2,2,2],[3,3,3]]\n",
        "np.array (matrix)"
      ],
      "metadata": {
        "colab": {
          "base_uri": "https://localhost:8080/"
        },
        "id": "sBhgFb-Dm69E",
        "outputId": "174ef908-f0cf-4c7e-9871-59e95dcc2f8c"
      },
      "execution_count": null,
      "outputs": [
        {
          "output_type": "execute_result",
          "data": {
            "text/plain": [
              "array([[1, 1, 1],\n",
              "       [2, 2, 2],\n",
              "       [3, 3, 3]])"
            ]
          },
          "metadata": {},
          "execution_count": 4
        }
      ]
    },
    {
      "cell_type": "markdown",
      "source": [
        "#**Built-in Methods**\n",
        "There are lots of built-in ways to generate Arrays"
      ],
      "metadata": {
        "id": "QZ3CzUvFoet-"
      }
    },
    {
      "cell_type": "markdown",
      "source": [
        "# arange\n",
        "Return evenly spaced values within a given interval.\n",
        "\n",
        "بترجع العناصر من البدايه للعنصر قبل الاخير"
      ],
      "metadata": {
        "id": "m2CBq5vqpDI-"
      }
    },
    {
      "cell_type": "code",
      "source": [
        "np.arange(0,7)"
      ],
      "metadata": {
        "colab": {
          "base_uri": "https://localhost:8080/"
        },
        "id": "i8I_Q2klpaos",
        "outputId": "bc1d6689-3b89-40cb-f81d-b5d6c76363c4"
      },
      "execution_count": null,
      "outputs": [
        {
          "output_type": "execute_result",
          "data": {
            "text/plain": [
              "array([0, 1, 2, 3, 4, 5, 6])"
            ]
          },
          "metadata": {},
          "execution_count": 5
        }
      ]
    },
    {
      "cell_type": "markdown",
      "source": [
        "### If we pay attention here, he took the penultimate element, not the last\n",
        "\n",
        "لو اخدنا بالنا هنا هو وصل لحد العنصر قبل الاخير مش\n",
        "الاخير"
      ],
      "metadata": {
        "id": "SYKflmkYpfS-"
      }
    },
    {
      "cell_type": "markdown",
      "source": [
        "#stepping\n",
        "we can use it with an extra parameter for stepping"
      ],
      "metadata": {
        "id": "bv_QR1IsqHtT"
      }
    },
    {
      "cell_type": "code",
      "source": [
        "np.arange (0,7,2)"
      ],
      "metadata": {
        "colab": {
          "base_uri": "https://localhost:8080/"
        },
        "id": "QKo1h_RrqeuQ",
        "outputId": "20b26568-0a17-4125-9e31-290a99be261a"
      },
      "execution_count": null,
      "outputs": [
        {
          "output_type": "execute_result",
          "data": {
            "text/plain": [
              "array([0, 2, 4, 6])"
            ]
          },
          "metadata": {},
          "execution_count": 6
        }
      ]
    },
    {
      "cell_type": "markdown",
      "source": [],
      "metadata": {
        "id": "Ikn4wfZPqwRT"
      }
    },
    {
      "cell_type": "markdown",
      "source": [
        "#zeros and ones\n",
        "Generate arrays of zeros or ones"
      ],
      "metadata": {
        "id": "kh_zyv-ZKsgn"
      }
    },
    {
      "cell_type": "code",
      "source": [
        "np.zeros(5)"
      ],
      "metadata": {
        "colab": {
          "base_uri": "https://localhost:8080/"
        },
        "id": "SdqzrhWCKyD3",
        "outputId": "1c120a5c-792e-48cc-f73a-ffbf32426f86"
      },
      "execution_count": null,
      "outputs": [
        {
          "output_type": "execute_result",
          "data": {
            "text/plain": [
              "array([0., 0., 0., 0., 0.])"
            ]
          },
          "metadata": {},
          "execution_count": 7
        }
      ]
    },
    {
      "cell_type": "code",
      "source": [
        "np.zeros((4,4))"
      ],
      "metadata": {
        "colab": {
          "base_uri": "https://localhost:8080/"
        },
        "id": "ihum5rS6LKMh",
        "outputId": "1abc260c-9755-4d70-d72e-d32ebcebae4c"
      },
      "execution_count": null,
      "outputs": [
        {
          "output_type": "execute_result",
          "data": {
            "text/plain": [
              "array([[0., 0., 0., 0.],\n",
              "       [0., 0., 0., 0.],\n",
              "       [0., 0., 0., 0.],\n",
              "       [0., 0., 0., 0.]])"
            ]
          },
          "metadata": {},
          "execution_count": 9
        }
      ]
    },
    {
      "cell_type": "code",
      "source": [
        "np.zeros((3,3,3))"
      ],
      "metadata": {
        "colab": {
          "base_uri": "https://localhost:8080/"
        },
        "id": "ix98kWlOLVfM",
        "outputId": "ee7bcc4a-f0d0-45be-a217-ad461a6e7cf4"
      },
      "execution_count": null,
      "outputs": [
        {
          "output_type": "execute_result",
          "data": {
            "text/plain": [
              "array([[[0., 0., 0.],\n",
              "        [0., 0., 0.],\n",
              "        [0., 0., 0.]],\n",
              "\n",
              "       [[0., 0., 0.],\n",
              "        [0., 0., 0.],\n",
              "        [0., 0., 0.]],\n",
              "\n",
              "       [[0., 0., 0.],\n",
              "        [0., 0., 0.],\n",
              "        [0., 0., 0.]]])"
            ]
          },
          "metadata": {},
          "execution_count": 10
        }
      ]
    },
    {
      "cell_type": "code",
      "source": [
        "np.ones(5)"
      ],
      "metadata": {
        "colab": {
          "base_uri": "https://localhost:8080/"
        },
        "id": "lk7iF8wGLe06",
        "outputId": "d25013d3-fbb7-4879-f336-d980e71edfda"
      },
      "execution_count": null,
      "outputs": [
        {
          "output_type": "execute_result",
          "data": {
            "text/plain": [
              "array([1., 1., 1., 1., 1.])"
            ]
          },
          "metadata": {},
          "execution_count": 11
        }
      ]
    },
    {
      "cell_type": "code",
      "source": [
        "np.ones((4,4))"
      ],
      "metadata": {
        "colab": {
          "base_uri": "https://localhost:8080/"
        },
        "id": "MI53oNYmLh1h",
        "outputId": "dc9671b3-850e-4ac8-b4ac-606e102e722f"
      },
      "execution_count": null,
      "outputs": [
        {
          "output_type": "execute_result",
          "data": {
            "text/plain": [
              "array([[1., 1., 1., 1.],\n",
              "       [1., 1., 1., 1.],\n",
              "       [1., 1., 1., 1.],\n",
              "       [1., 1., 1., 1.]])"
            ]
          },
          "metadata": {},
          "execution_count": 12
        }
      ]
    },
    {
      "cell_type": "code",
      "source": [
        "np.ones((3,3,3))"
      ],
      "metadata": {
        "colab": {
          "base_uri": "https://localhost:8080/"
        },
        "id": "hnYjHotULllJ",
        "outputId": "bc170fe4-cbdf-42c5-f6f7-d8f5f7c9f0d7"
      },
      "execution_count": null,
      "outputs": [
        {
          "output_type": "execute_result",
          "data": {
            "text/plain": [
              "array([[[1., 1., 1.],\n",
              "        [1., 1., 1.],\n",
              "        [1., 1., 1.]],\n",
              "\n",
              "       [[1., 1., 1.],\n",
              "        [1., 1., 1.],\n",
              "        [1., 1., 1.]],\n",
              "\n",
              "       [[1., 1., 1.],\n",
              "        [1., 1., 1.],\n",
              "        [1., 1., 1.]]])"
            ]
          },
          "metadata": {},
          "execution_count": 13
        }
      ]
    },
    {
      "cell_type": "markdown",
      "source": [
        "#linspace\n",
        "Return evenly spaced numbers over a specified interval.\n",
        "\n",
        " بيجيب ارقام ما بين الرقمين اللي حاطيناهم وممكن اضيف عددهم في الاخر\n"
      ],
      "metadata": {
        "id": "vpr-alMfMBcw"
      }
    },
    {
      "cell_type": "code",
      "source": [
        "np.linspace(0,2,5)"
      ],
      "metadata": {
        "colab": {
          "base_uri": "https://localhost:8080/"
        },
        "id": "V4u3kQvgMErZ",
        "outputId": "0b03ce4e-017c-4bff-8039-55aaf4b40f48"
      },
      "execution_count": null,
      "outputs": [
        {
          "output_type": "execute_result",
          "data": {
            "text/plain": [
              "array([0. , 0.5, 1. , 1.5, 2. ])"
            ]
          },
          "metadata": {},
          "execution_count": 19
        }
      ]
    },
    {
      "cell_type": "code",
      "source": [
        "np.linspace(0,4,2)"
      ],
      "metadata": {
        "colab": {
          "base_uri": "https://localhost:8080/"
        },
        "id": "tTf2hk68NWmt",
        "outputId": "c619947a-d269-4e44-91a2-e481f25d43f8"
      },
      "execution_count": null,
      "outputs": [
        {
          "output_type": "execute_result",
          "data": {
            "text/plain": [
              "array([0., 4.])"
            ]
          },
          "metadata": {},
          "execution_count": 20
        }
      ]
    },
    {
      "cell_type": "markdown",
      "source": [
        "#eye\n",
        "Creates an identity matrix"
      ],
      "metadata": {
        "id": "BUJJ9qErNhV4"
      }
    },
    {
      "cell_type": "code",
      "source": [
        "np.eye(2)"
      ],
      "metadata": {
        "colab": {
          "base_uri": "https://localhost:8080/"
        },
        "id": "lBm2GCZrNjqP",
        "outputId": "36fd09bb-617f-4d39-fc3c-90de666e07c6"
      },
      "execution_count": null,
      "outputs": [
        {
          "output_type": "execute_result",
          "data": {
            "text/plain": [
              "array([[1., 0.],\n",
              "       [0., 1.]])"
            ]
          },
          "metadata": {},
          "execution_count": 23
        }
      ]
    },
    {
      "cell_type": "code",
      "source": [
        "np.eye(3)"
      ],
      "metadata": {
        "colab": {
          "base_uri": "https://localhost:8080/"
        },
        "id": "V5Qtrp61NvBc",
        "outputId": "460b0d12-23e7-42ea-e132-f3fbeb07fa1c"
      },
      "execution_count": null,
      "outputs": [
        {
          "output_type": "execute_result",
          "data": {
            "text/plain": [
              "array([[1., 0., 0.],\n",
              "       [0., 1., 0.],\n",
              "       [0., 0., 1.]])"
            ]
          },
          "metadata": {},
          "execution_count": 25
        }
      ]
    },
    {
      "cell_type": "markdown",
      "source": [
        "#Random\n",
        "Numpy also has lots of ways to create random number arrays:"
      ],
      "metadata": {
        "id": "owGfZcZcN-Km"
      }
    },
    {
      "cell_type": "markdown",
      "source": [
        "#rand\n",
        "Create an array of the given shape and populate it with random samples from a uniform distribution over [0, 1]."
      ],
      "metadata": {
        "id": "SS5PtCA9OBCm"
      }
    },
    {
      "cell_type": "code",
      "source": [
        "np.random.rand(4)"
      ],
      "metadata": {
        "colab": {
          "base_uri": "https://localhost:8080/"
        },
        "id": "dixrLE7yOHlH",
        "outputId": "cc7eaaab-63e8-4733-d9fd-33308483327a"
      },
      "execution_count": null,
      "outputs": [
        {
          "output_type": "execute_result",
          "data": {
            "text/plain": [
              "array([0.07921534, 0.6498535 , 0.28591563, 0.93454342])"
            ]
          },
          "metadata": {},
          "execution_count": 26
        }
      ]
    },
    {
      "cell_type": "code",
      "source": [
        "np.random.rand(2,2)"
      ],
      "metadata": {
        "colab": {
          "base_uri": "https://localhost:8080/"
        },
        "id": "5LvJcMXxPgio",
        "outputId": "16f8aa4b-8d7e-4371-f560-e5494d0a4bcc"
      },
      "execution_count": null,
      "outputs": [
        {
          "output_type": "execute_result",
          "data": {
            "text/plain": [
              "array([[0.29335721, 0.99735706],\n",
              "       [0.90848266, 0.86962721]])"
            ]
          },
          "metadata": {},
          "execution_count": 27
        }
      ]
    },
    {
      "cell_type": "code",
      "source": [
        "np.random.rand(2,3,4)"
      ],
      "metadata": {
        "colab": {
          "base_uri": "https://localhost:8080/"
        },
        "id": "lgH9CkEPPkYV",
        "outputId": "287ef9dc-4402-44ca-c152-e152155b27ec"
      },
      "execution_count": null,
      "outputs": [
        {
          "output_type": "execute_result",
          "data": {
            "text/plain": [
              "array([[[0.08833676, 0.06436636, 0.76637471, 0.17929595],\n",
              "        [0.81352121, 0.57947248, 0.18956424, 0.79897556],\n",
              "        [0.27172691, 0.58180236, 0.27410849, 0.39648442]],\n",
              "\n",
              "       [[0.18666054, 0.58562689, 0.62215921, 0.44404529],\n",
              "        [0.3489529 , 0.06817666, 0.09533445, 0.63981087],\n",
              "        [0.12612924, 0.71557585, 0.30168393, 0.83295367]]])"
            ]
          },
          "metadata": {},
          "execution_count": 28
        }
      ]
    },
    {
      "cell_type": "markdown",
      "source": [
        "#randn\n",
        "Return a sample (or samples) from the \"standard normal\" distribution. Unlike rand which is uniform"
      ],
      "metadata": {
        "id": "los5DMHNPpiS"
      }
    },
    {
      "cell_type": "code",
      "source": [
        "np.random.randn(2)"
      ],
      "metadata": {
        "colab": {
          "base_uri": "https://localhost:8080/"
        },
        "id": "w7p4ib6gQh8d",
        "outputId": "7a793928-ac90-45e6-9310-0749d1c621ef"
      },
      "execution_count": null,
      "outputs": [
        {
          "output_type": "execute_result",
          "data": {
            "text/plain": [
              "array([-0.55400129,  0.01538467])"
            ]
          },
          "metadata": {},
          "execution_count": 31
        }
      ]
    },
    {
      "cell_type": "code",
      "source": [
        "np.random.randn(2,2)"
      ],
      "metadata": {
        "colab": {
          "base_uri": "https://localhost:8080/"
        },
        "id": "r9g7JSA1Qvgk",
        "outputId": "db7ab933-ed5c-45a5-be69-6c40a3480886"
      },
      "execution_count": null,
      "outputs": [
        {
          "output_type": "execute_result",
          "data": {
            "text/plain": [
              "array([[ 1.43365005, -0.05213978],\n",
              "       [-1.8525898 ,  0.72702158]])"
            ]
          },
          "metadata": {},
          "execution_count": 32
        }
      ]
    },
    {
      "cell_type": "markdown",
      "source": [
        "#randint\n",
        "Return random integers from low (inclusive) to high"
      ],
      "metadata": {
        "id": "1pdMmHy8Q0we"
      }
    },
    {
      "cell_type": "code",
      "source": [
        "np.random.randint(1,50)"
      ],
      "metadata": {
        "colab": {
          "base_uri": "https://localhost:8080/"
        },
        "id": "2kK4uzH0Q6ft",
        "outputId": "21be9072-4f9c-42a6-83fb-5674c6fcadbc"
      },
      "execution_count": null,
      "outputs": [
        {
          "output_type": "execute_result",
          "data": {
            "text/plain": [
              "35"
            ]
          },
          "metadata": {},
          "execution_count": 34
        }
      ]
    },
    {
      "cell_type": "code",
      "source": [
        "np.random.randint(5,10)"
      ],
      "metadata": {
        "colab": {
          "base_uri": "https://localhost:8080/"
        },
        "id": "YkyLixJIRHjr",
        "outputId": "a09b9fa8-ec10-4bc0-9df4-642d66e524ce"
      },
      "execution_count": null,
      "outputs": [
        {
          "output_type": "execute_result",
          "data": {
            "text/plain": [
              "9"
            ]
          },
          "metadata": {},
          "execution_count": 36
        }
      ]
    },
    {
      "cell_type": "code",
      "source": [
        "np.random.randint(1,1000,10)"
      ],
      "metadata": {
        "colab": {
          "base_uri": "https://localhost:8080/"
        },
        "id": "iQAJ8QWvRSwy",
        "outputId": "b9e224b0-2166-420f-f04f-e6275e52a2d4"
      },
      "execution_count": null,
      "outputs": [
        {
          "output_type": "execute_result",
          "data": {
            "text/plain": [
              "array([893, 734, 336, 185, 881, 949, 274, 191, 959, 900])"
            ]
          },
          "metadata": {},
          "execution_count": 41
        }
      ]
    },
    {
      "cell_type": "markdown",
      "source": [
        "#Reshape\n",
        "Returns an array containing the same data with a new shape."
      ],
      "metadata": {
        "id": "iJEe05nMRakL"
      }
    },
    {
      "cell_type": "code",
      "source": [
        "arr = np.arange(10)"
      ],
      "metadata": {
        "id": "DI7JG_PjSHbv"
      },
      "execution_count": null,
      "outputs": []
    },
    {
      "cell_type": "code",
      "source": [
        "arr"
      ],
      "metadata": {
        "colab": {
          "base_uri": "https://localhost:8080/"
        },
        "id": "Oh3AujwcSO2X",
        "outputId": "09491b3e-a948-42e5-aeb3-901d5714bd9d"
      },
      "execution_count": null,
      "outputs": [
        {
          "output_type": "execute_result",
          "data": {
            "text/plain": [
              "array([0, 1, 2, 3, 4, 5, 6, 7, 8, 9])"
            ]
          },
          "metadata": {},
          "execution_count": 52
        }
      ]
    },
    {
      "cell_type": "code",
      "source": [
        "arr.reshape(2,5)"
      ],
      "metadata": {
        "colab": {
          "base_uri": "https://localhost:8080/"
        },
        "id": "CzOHfN5zSlaR",
        "outputId": "432e7ec9-2318-470b-bffc-d47bf80c782c"
      },
      "execution_count": null,
      "outputs": [
        {
          "output_type": "execute_result",
          "data": {
            "text/plain": [
              "array([[0, 1, 2, 3, 4],\n",
              "       [5, 6, 7, 8, 9]])"
            ]
          },
          "metadata": {},
          "execution_count": 55
        }
      ]
    },
    {
      "cell_type": "markdown",
      "source": [
        "#max,min,argmax,argmin\n",
        "These are useful methods for finding max or min values. Or to find their index locations using argmin or argmax"
      ],
      "metadata": {
        "id": "EqeGd4aaTFBv"
      }
    },
    {
      "cell_type": "code",
      "source": [
        "arr =np.arange(0,20)"
      ],
      "metadata": {
        "id": "j0V3bQSPTRDG"
      },
      "execution_count": null,
      "outputs": []
    },
    {
      "cell_type": "code",
      "source": [
        "arr"
      ],
      "metadata": {
        "colab": {
          "base_uri": "https://localhost:8080/"
        },
        "id": "FK14Ow9NTbpj",
        "outputId": "2cd27c6f-47c0-428e-92d5-0e3a6c5f8858"
      },
      "execution_count": null,
      "outputs": [
        {
          "output_type": "execute_result",
          "data": {
            "text/plain": [
              "array([ 0,  1,  2,  3,  4,  5,  6,  7,  8,  9, 10, 11, 12, 13, 14, 15, 16,\n",
              "       17, 18, 19])"
            ]
          },
          "metadata": {},
          "execution_count": 60
        }
      ]
    },
    {
      "cell_type": "code",
      "source": [
        "arr.max()"
      ],
      "metadata": {
        "colab": {
          "base_uri": "https://localhost:8080/"
        },
        "id": "Kh1u4hiJTHqM",
        "outputId": "cf175a82-ede6-4626-e47c-d5f19e3a1044"
      },
      "execution_count": null,
      "outputs": [
        {
          "output_type": "execute_result",
          "data": {
            "text/plain": [
              "19"
            ]
          },
          "metadata": {},
          "execution_count": 61
        }
      ]
    },
    {
      "cell_type": "code",
      "source": [
        "arr.min()"
      ],
      "metadata": {
        "colab": {
          "base_uri": "https://localhost:8080/"
        },
        "id": "zQyn7HWPTn0M",
        "outputId": "cd421622-b941-4554-ba01-17b311d8bfb1"
      },
      "execution_count": null,
      "outputs": [
        {
          "output_type": "execute_result",
          "data": {
            "text/plain": [
              "0"
            ]
          },
          "metadata": {},
          "execution_count": 62
        }
      ]
    },
    {
      "cell_type": "code",
      "source": [
        "arr.argmax()"
      ],
      "metadata": {
        "colab": {
          "base_uri": "https://localhost:8080/"
        },
        "id": "E3cbmioFTqvd",
        "outputId": "6d9dfe26-8a0d-4913-fe3e-ded850d05e95"
      },
      "execution_count": null,
      "outputs": [
        {
          "output_type": "execute_result",
          "data": {
            "text/plain": [
              "19"
            ]
          },
          "metadata": {},
          "execution_count": 63
        }
      ]
    },
    {
      "cell_type": "code",
      "source": [
        "arr.argmin()"
      ],
      "metadata": {
        "colab": {
          "base_uri": "https://localhost:8080/"
        },
        "id": "IF3g8RxKT3R3",
        "outputId": "72219f12-3f8b-4888-f4b5-cf3006d683bb"
      },
      "execution_count": null,
      "outputs": [
        {
          "output_type": "execute_result",
          "data": {
            "text/plain": [
              "0"
            ]
          },
          "metadata": {},
          "execution_count": 65
        }
      ]
    },
    {
      "cell_type": "markdown",
      "source": [
        "#Shape\n",
        "Shape is an attribute that arrays have (not a method):"
      ],
      "metadata": {
        "id": "wNAfxBthUAe-"
      }
    },
    {
      "cell_type": "code",
      "source": [
        "arr"
      ],
      "metadata": {
        "colab": {
          "base_uri": "https://localhost:8080/"
        },
        "id": "6HJzD6yGUDPE",
        "outputId": "c1935696-10fd-4615-9f11-fff96549065d"
      },
      "execution_count": null,
      "outputs": [
        {
          "output_type": "execute_result",
          "data": {
            "text/plain": [
              "array([ 0,  1,  2,  3,  4,  5,  6,  7,  8,  9, 10, 11, 12, 13, 14, 15, 16,\n",
              "       17, 18, 19])"
            ]
          },
          "metadata": {},
          "execution_count": 68
        }
      ]
    },
    {
      "cell_type": "code",
      "source": [
        "arr = np.arange(6)"
      ],
      "metadata": {
        "id": "VIoqWMizUWrF"
      },
      "execution_count": null,
      "outputs": []
    },
    {
      "cell_type": "code",
      "source": [
        "arr"
      ],
      "metadata": {
        "colab": {
          "base_uri": "https://localhost:8080/"
        },
        "id": "bs0skUF4Udsh",
        "outputId": "68280ea3-3f04-435a-f43f-a1052379addd"
      },
      "execution_count": null,
      "outputs": [
        {
          "output_type": "execute_result",
          "data": {
            "text/plain": [
              "array([0, 1, 2, 3, 4, 5])"
            ]
          },
          "metadata": {},
          "execution_count": 73
        }
      ]
    },
    {
      "cell_type": "code",
      "source": [
        "arr.reshape(2,3)"
      ],
      "metadata": {
        "colab": {
          "base_uri": "https://localhost:8080/"
        },
        "id": "vkpLU2QdUgmk",
        "outputId": "7fe9c806-aa0e-4597-e42b-36a08d5d6c7c"
      },
      "execution_count": null,
      "outputs": [
        {
          "output_type": "execute_result",
          "data": {
            "text/plain": [
              "array([[0, 1, 2],\n",
              "       [3, 4, 5]])"
            ]
          },
          "metadata": {},
          "execution_count": 74
        }
      ]
    },
    {
      "cell_type": "code",
      "source": [
        "arr.reshape(2,3).shape"
      ],
      "metadata": {
        "colab": {
          "base_uri": "https://localhost:8080/"
        },
        "id": "_C-_mAV5U5eq",
        "outputId": "fc3e382a-b2a6-447f-d984-d36f6467652b"
      },
      "execution_count": null,
      "outputs": [
        {
          "output_type": "execute_result",
          "data": {
            "text/plain": [
              "(2, 3)"
            ]
          },
          "metadata": {},
          "execution_count": 76
        }
      ]
    },
    {
      "cell_type": "markdown",
      "source": [
        "#dtype\n",
        "You can also grab the data type of the object in the array:"
      ],
      "metadata": {
        "id": "SB5Pv6N5VKO8"
      }
    },
    {
      "cell_type": "code",
      "source": [
        "arr.dtype"
      ],
      "metadata": {
        "colab": {
          "base_uri": "https://localhost:8080/"
        },
        "id": "Jiv8ue1XVhoV",
        "outputId": "d2817bff-1856-4a1a-db10-0850bc2ba890"
      },
      "execution_count": null,
      "outputs": [
        {
          "output_type": "execute_result",
          "data": {
            "text/plain": [
              "dtype('int64')"
            ]
          },
          "metadata": {},
          "execution_count": 82
        }
      ]
    },
    {
      "cell_type": "markdown",
      "source": [
        "#Bracket Indexing and Selection\n",
        "The simplest way to pick one or some elements of an array looks very similar to python lists:"
      ],
      "metadata": {
        "id": "VWQi2eFdVqFY"
      }
    },
    {
      "cell_type": "code",
      "source": [
        "arr"
      ],
      "metadata": {
        "colab": {
          "base_uri": "https://localhost:8080/"
        },
        "id": "nHKBrC7pV0sb",
        "outputId": "6bd0da19-5d28-451d-9bbf-48a1dfe4a163"
      },
      "execution_count": null,
      "outputs": [
        {
          "output_type": "execute_result",
          "data": {
            "text/plain": [
              "array([0, 1, 2, 3, 4, 5])"
            ]
          },
          "metadata": {},
          "execution_count": 83
        }
      ]
    },
    {
      "cell_type": "code",
      "source": [
        "arr[0]"
      ],
      "metadata": {
        "colab": {
          "base_uri": "https://localhost:8080/"
        },
        "id": "xFihnCU7V7G_",
        "outputId": "ed89fa94-ef4c-4ee3-eab5-4dbd7e16c208"
      },
      "execution_count": null,
      "outputs": [
        {
          "output_type": "execute_result",
          "data": {
            "text/plain": [
              "0"
            ]
          },
          "metadata": {},
          "execution_count": 84
        }
      ]
    },
    {
      "cell_type": "code",
      "source": [
        "arr[5]"
      ],
      "metadata": {
        "colab": {
          "base_uri": "https://localhost:8080/"
        },
        "id": "cXEnJPlBV9pQ",
        "outputId": "d0f408d0-8d17-48ce-a745-88f256a8743c"
      },
      "execution_count": null,
      "outputs": [
        {
          "output_type": "execute_result",
          "data": {
            "text/plain": [
              "5"
            ]
          },
          "metadata": {},
          "execution_count": 86
        }
      ]
    },
    {
      "cell_type": "code",
      "source": [
        "arr[0:5]"
      ],
      "metadata": {
        "colab": {
          "base_uri": "https://localhost:8080/"
        },
        "id": "3nhXObTiWDqN",
        "outputId": "870c99eb-8f5e-4f04-8401-4ca0501e3823"
      },
      "execution_count": null,
      "outputs": [
        {
          "output_type": "execute_result",
          "data": {
            "text/plain": [
              "array([0, 1, 2, 3, 4])"
            ]
          },
          "metadata": {},
          "execution_count": 87
        }
      ]
    },
    {
      "cell_type": "markdown",
      "source": [
        "#Broadcasting\n",
        "Numpy arrays differ from a normal Python list because of their ability to broadcast:"
      ],
      "metadata": {
        "id": "-EPSHU2HWP4E"
      }
    },
    {
      "cell_type": "code",
      "source": [
        "arr"
      ],
      "metadata": {
        "colab": {
          "base_uri": "https://localhost:8080/"
        },
        "id": "UPUwXwRoWSb2",
        "outputId": "f1b304a0-d2e1-491b-a675-58460f630db4"
      },
      "execution_count": null,
      "outputs": [
        {
          "output_type": "execute_result",
          "data": {
            "text/plain": [
              "array([0, 1, 2, 3, 4, 5])"
            ]
          },
          "metadata": {},
          "execution_count": 88
        }
      ]
    },
    {
      "cell_type": "code",
      "source": [
        "arr[0]=65"
      ],
      "metadata": {
        "id": "ImRZTKeWWVcc"
      },
      "execution_count": null,
      "outputs": []
    },
    {
      "cell_type": "code",
      "source": [
        "arr"
      ],
      "metadata": {
        "colab": {
          "base_uri": "https://localhost:8080/"
        },
        "id": "ixyUzeBnWb2o",
        "outputId": "519a7ba8-2346-4faa-df8d-62b9ca9862f9"
      },
      "execution_count": null,
      "outputs": [
        {
          "output_type": "execute_result",
          "data": {
            "text/plain": [
              "array([65,  1,  2,  3,  4,  5])"
            ]
          },
          "metadata": {},
          "execution_count": 90
        }
      ]
    },
    {
      "cell_type": "code",
      "source": [
        "arr[1]=66"
      ],
      "metadata": {
        "id": "9EbxE3bPWeUu"
      },
      "execution_count": null,
      "outputs": []
    },
    {
      "cell_type": "code",
      "source": [
        "arr"
      ],
      "metadata": {
        "colab": {
          "base_uri": "https://localhost:8080/"
        },
        "id": "3kvtvs6fWiix",
        "outputId": "b60cd02d-e670-426e-f053-4955f69f16e6"
      },
      "execution_count": null,
      "outputs": [
        {
          "output_type": "execute_result",
          "data": {
            "text/plain": [
              "array([65, 66,  2,  3,  4,  5])"
            ]
          },
          "metadata": {},
          "execution_count": 92
        }
      ]
    },
    {
      "cell_type": "code",
      "source": [
        "arr[0:6]=100"
      ],
      "metadata": {
        "id": "frEMSW7nWp98"
      },
      "execution_count": null,
      "outputs": []
    },
    {
      "cell_type": "code",
      "source": [
        "arr"
      ],
      "metadata": {
        "colab": {
          "base_uri": "https://localhost:8080/"
        },
        "id": "fI-GkqS1Wtnz",
        "outputId": "7dbeddbd-0cd1-4e0e-a1f2-f9b13877e733"
      },
      "execution_count": null,
      "outputs": [
        {
          "output_type": "execute_result",
          "data": {
            "text/plain": [
              "array([100, 100, 100, 100, 100, 100])"
            ]
          },
          "metadata": {},
          "execution_count": 96
        }
      ]
    },
    {
      "cell_type": "code",
      "source": [
        "arr = np.arange(0,5)"
      ],
      "metadata": {
        "id": "RCAhLCZUW21n"
      },
      "execution_count": null,
      "outputs": []
    },
    {
      "cell_type": "code",
      "source": [
        "arr"
      ],
      "metadata": {
        "colab": {
          "base_uri": "https://localhost:8080/"
        },
        "id": "WUdVsJqrW52Z",
        "outputId": "92cb421a-3657-4db1-b3c1-5c1ab44c4f6b"
      },
      "execution_count": null,
      "outputs": [
        {
          "output_type": "execute_result",
          "data": {
            "text/plain": [
              "array([0, 1, 2, 3, 4])"
            ]
          },
          "metadata": {},
          "execution_count": 98
        }
      ]
    },
    {
      "cell_type": "code",
      "source": [
        "slice_of_arr = arr[0:2]\n",
        "slice_of_arr"
      ],
      "metadata": {
        "colab": {
          "base_uri": "https://localhost:8080/"
        },
        "id": "kPs50nfyW_AN",
        "outputId": "57c8b6e2-66fa-4893-e2f8-d0bc9be16371"
      },
      "execution_count": null,
      "outputs": [
        {
          "output_type": "execute_result",
          "data": {
            "text/plain": [
              "array([0, 1])"
            ]
          },
          "metadata": {},
          "execution_count": 99
        }
      ]
    },
    {
      "cell_type": "code",
      "source": [
        "slice_of_arr[:]=99\n",
        "slice_of_arr"
      ],
      "metadata": {
        "colab": {
          "base_uri": "https://localhost:8080/"
        },
        "id": "mxQYvC1UXHpl",
        "outputId": "580beb95-5d37-4a7f-f535-417d707767d7"
      },
      "execution_count": null,
      "outputs": [
        {
          "output_type": "execute_result",
          "data": {
            "text/plain": [
              "array([99, 99])"
            ]
          },
          "metadata": {},
          "execution_count": 100
        }
      ]
    },
    {
      "cell_type": "markdown",
      "source": [
        "Now note the changes also occur in our original array!"
      ],
      "metadata": {
        "id": "_SUZdUKpXPQB"
      }
    },
    {
      "cell_type": "code",
      "source": [
        "arr"
      ],
      "metadata": {
        "colab": {
          "base_uri": "https://localhost:8080/"
        },
        "id": "fKP9lxMEXQrd",
        "outputId": "be6a6f97-7590-4db9-c952-e4b770b6709a"
      },
      "execution_count": null,
      "outputs": [
        {
          "output_type": "execute_result",
          "data": {
            "text/plain": [
              "array([99, 99,  2,  3,  4])"
            ]
          },
          "metadata": {},
          "execution_count": 101
        }
      ]
    },
    {
      "cell_type": "markdown",
      "source": [
        "#NumPy Operations\n",
        "Arithmetic\n",
        "You can easily perform array with array arithmetic, or scalar with array arithmetic. Let's see some examples"
      ],
      "metadata": {
        "id": "wcLoCgz7Xin1"
      }
    },
    {
      "cell_type": "code",
      "source": [
        "import numpy as np\n",
        "arr = np.arange(0,10)"
      ],
      "metadata": {
        "id": "RPw8bb_zXk_z"
      },
      "execution_count": null,
      "outputs": []
    },
    {
      "cell_type": "code",
      "source": [
        "arr"
      ],
      "metadata": {
        "colab": {
          "base_uri": "https://localhost:8080/"
        },
        "id": "9shZ0PdnXpNn",
        "outputId": "9b373792-8d5e-4d2d-9048-1097f61f301a"
      },
      "execution_count": null,
      "outputs": [
        {
          "output_type": "execute_result",
          "data": {
            "text/plain": [
              "array([0, 1, 2, 3, 4, 5, 6, 7, 8, 9])"
            ]
          },
          "metadata": {},
          "execution_count": 103
        }
      ]
    },
    {
      "cell_type": "code",
      "source": [
        "arr + arr"
      ],
      "metadata": {
        "colab": {
          "base_uri": "https://localhost:8080/"
        },
        "id": "DYqh9vf_X3Hm",
        "outputId": "65d8e3c2-2625-4432-da54-107fb711cb35"
      },
      "execution_count": null,
      "outputs": [
        {
          "output_type": "execute_result",
          "data": {
            "text/plain": [
              "array([ 0,  2,  4,  6,  8, 10, 12, 14, 16, 18])"
            ]
          },
          "metadata": {},
          "execution_count": 104
        }
      ]
    },
    {
      "cell_type": "code",
      "source": [
        "arr * arr"
      ],
      "metadata": {
        "colab": {
          "base_uri": "https://localhost:8080/"
        },
        "id": "6UbVRE73X5ZT",
        "outputId": "8f66cb18-f123-4f7d-ed3f-e1857841ff8e"
      },
      "execution_count": null,
      "outputs": [
        {
          "output_type": "execute_result",
          "data": {
            "text/plain": [
              "array([ 0,  1,  4,  9, 16, 25, 36, 49, 64, 81])"
            ]
          },
          "metadata": {},
          "execution_count": 105
        }
      ]
    },
    {
      "cell_type": "code",
      "source": [
        "arr - arr"
      ],
      "metadata": {
        "colab": {
          "base_uri": "https://localhost:8080/"
        },
        "id": "jxOFA5fPX72D",
        "outputId": "d3fce3d8-0314-4605-b0a0-96266b062e83"
      },
      "execution_count": null,
      "outputs": [
        {
          "output_type": "execute_result",
          "data": {
            "text/plain": [
              "array([0, 0, 0, 0, 0, 0, 0, 0, 0, 0])"
            ]
          },
          "metadata": {},
          "execution_count": 106
        }
      ]
    },
    {
      "cell_type": "code",
      "source": [
        "arr/arr"
      ],
      "metadata": {
        "colab": {
          "base_uri": "https://localhost:8080/"
        },
        "id": "thLH-bIyYAhU",
        "outputId": "e48de25f-99a2-4893-a75b-1fa5e2f1ec31"
      },
      "execution_count": null,
      "outputs": [
        {
          "output_type": "stream",
          "name": "stderr",
          "text": [
            "<ipython-input-107-50b4ced5627e>:1: RuntimeWarning: invalid value encountered in divide\n",
            "  arr/arr\n"
          ]
        },
        {
          "output_type": "execute_result",
          "data": {
            "text/plain": [
              "array([nan,  1.,  1.,  1.,  1.,  1.,  1.,  1.,  1.,  1.])"
            ]
          },
          "metadata": {},
          "execution_count": 107
        }
      ]
    },
    {
      "cell_type": "markdown",
      "source": [
        "#Warning on division by zero, but not an error!\n",
        "Just replaced with nan"
      ],
      "metadata": {
        "id": "zUlviLWbYEYF"
      }
    },
    {
      "cell_type": "code",
      "source": [
        "arr**3"
      ],
      "metadata": {
        "colab": {
          "base_uri": "https://localhost:8080/"
        },
        "id": "yIYWpXmIYGCz",
        "outputId": "032388e6-e0e9-4bd3-ddab-0bc995b1ef29"
      },
      "execution_count": null,
      "outputs": [
        {
          "output_type": "execute_result",
          "data": {
            "text/plain": [
              "array([  0,   1,   8,  27,  64, 125, 216, 343, 512, 729])"
            ]
          },
          "metadata": {},
          "execution_count": 108
        }
      ]
    },
    {
      "cell_type": "markdown",
      "source": [
        "#Universal Array Functions\n",
        "Numpy comes with many universal array functions, which are essentially just mathematical operations you can use to perform the operation across the array. Let's show some common ones"
      ],
      "metadata": {
        "id": "9Jfh545AYWcc"
      }
    },
    {
      "cell_type": "code",
      "source": [
        "np.sqrt(arr)"
      ],
      "metadata": {
        "colab": {
          "base_uri": "https://localhost:8080/"
        },
        "id": "LCoWAZlcYYpt",
        "outputId": "d95f9170-4198-400f-f700-13afa4205c7f"
      },
      "execution_count": null,
      "outputs": [
        {
          "output_type": "execute_result",
          "data": {
            "text/plain": [
              "array([0.        , 1.        , 1.41421356, 1.73205081, 2.        ,\n",
              "       2.23606798, 2.44948974, 2.64575131, 2.82842712, 3.        ])"
            ]
          },
          "metadata": {},
          "execution_count": 109
        }
      ]
    },
    {
      "cell_type": "code",
      "source": [
        "np.max(arr) #same as arr.max()"
      ],
      "metadata": {
        "colab": {
          "base_uri": "https://localhost:8080/"
        },
        "id": "yqZ2e28gYfth",
        "outputId": "c8f72df8-f1b0-4024-d8b8-f3c9295ff55f"
      },
      "execution_count": null,
      "outputs": [
        {
          "output_type": "execute_result",
          "data": {
            "text/plain": [
              "9"
            ]
          },
          "metadata": {},
          "execution_count": 110
        }
      ]
    },
    {
      "cell_type": "markdown",
      "source": [
        "#Thanks !!\n",
        "Hope these was good for you!"
      ],
      "metadata": {
        "id": "WKRqhbvqYjPk"
      }
    }
  ]
}